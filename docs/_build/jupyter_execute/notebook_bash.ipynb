{
 "cells": [
  {
   "cell_type": "markdown",
   "id": "9aeb8b9f-3314-4e04-8f08-c0a1db8e05dd",
   "metadata": {},
   "source": [
    "# Notebook Bash"
   ]
  },
  {
   "cell_type": "code",
   "execution_count": 1,
   "id": "9141346a-1100-4c91-96e5-b69dd84bb208",
   "metadata": {},
   "outputs": [
    {
     "name": "stdout",
     "output_type": "stream",
     "text": [
      "LS(1)                        General Commands Manual                       LS(1)\n"
     ]
    },
    {
     "name": "stdout",
     "output_type": "stream",
     "text": [
      "\n"
     ]
    },
    {
     "name": "stdout",
     "output_type": "stream",
     "text": [
      "N\bNA\bAM\bME\bE\n"
     ]
    },
    {
     "name": "stdout",
     "output_type": "stream",
     "text": [
      "     l\bls\bs – list directory contents\n"
     ]
    },
    {
     "name": "stdout",
     "output_type": "stream",
     "text": [
      "\n"
     ]
    },
    {
     "name": "stdout",
     "output_type": "stream",
     "text": [
      "S\bSY\bYN\bNO\bOP\bPS\bSI\bIS\bS\n"
     ]
    },
    {
     "name": "stdout",
     "output_type": "stream",
     "text": [
      "     l\bls\bs [-\b-@\b@A\bAB\bBC\bCF\bFG\bGH\bHI\bIL\bLO\bOP\bPR\bRS\bST\bTU\bUW\bWa\bab\bbc\bcd\bde\bef\bfg\bgh\bhi\bik\bkl\blm\bmn\bno\bop\bpq\bqr\brs\bst\btu\buv\bvw\bwx\bxy\by1\b1%\b%,\b,] [-\b--\b-c\bco\bol\blo\bor\br=_\bw_\bh_\be_\bn]\n"
     ]
    },
    {
     "name": "stdout",
     "output_type": "stream",
     "text": [
      "        [-\b-D\bD _\bf_\bo_\br_\bm_\ba_\bt] [_\bf_\bi_\bl_\be _\b._\b._\b.]\n"
     ]
    },
    {
     "name": "stdout",
     "output_type": "stream",
     "text": [
      "\n"
     ]
    },
    {
     "name": "stdout",
     "output_type": "stream",
     "text": [
      "D\bDE\bES\bSC\bCR\bRI\bIP\bPT\bTI\bIO\bON\bN\n"
     ]
    },
    {
     "name": "stdout",
     "output_type": "stream",
     "text": [
      "     For each operand that names a _\bf_\bi_\bl_\be of a type other than directory, l\bls\bs\n"
     ]
    },
    {
     "name": "stdout",
     "output_type": "stream",
     "text": [
      "     displays its name as well as any requested, associated information.  For\n"
     ]
    },
    {
     "name": "stdout",
     "output_type": "stream",
     "text": [
      "     each operand that names a _\bf_\bi_\bl_\be of type directory, l\bls\bs displays the names of\n"
     ]
    },
    {
     "name": "stdout",
     "output_type": "stream",
     "text": [
      "     files contained within that directory, as well as any requested, associated\n"
     ]
    },
    {
     "name": "stdout",
     "output_type": "stream",
     "text": [
      "     information.\n"
     ]
    },
    {
     "name": "stdout",
     "output_type": "stream",
     "text": [
      "\n"
     ]
    },
    {
     "name": "stdout",
     "output_type": "stream",
     "text": [
      "     If no operands are given, the contents of the current directory are\n"
     ]
    },
    {
     "name": "stdout",
     "output_type": "stream",
     "text": [
      "     displayed.  If more than one operand is given, non-directory operands are\n"
     ]
    },
    {
     "name": "stdout",
     "output_type": "stream",
     "text": [
      "     displayed first; directory and non-directory operands are sorted separately\n"
     ]
    },
    {
     "name": "stdout",
     "output_type": "stream",
     "text": [
      "     and in lexicographical order.\n"
     ]
    },
    {
     "name": "stdout",
     "output_type": "stream",
     "text": [
      "\n"
     ]
    },
    {
     "name": "stdout",
     "output_type": "stream",
     "text": [
      "     The following options are available:\n"
     ]
    },
    {
     "name": "stdout",
     "output_type": "stream",
     "text": [
      "\n"
     ]
    },
    {
     "name": "stdout",
     "output_type": "stream",
     "text": [
      "     -\b-@\b@      Display extended attribute keys and sizes in long (-\b-l\bl) output.\n"
     ]
    },
    {
     "name": "stdout",
     "output_type": "stream",
     "text": [
      "\n"
     ]
    },
    {
     "name": "stdout",
     "output_type": "stream",
     "text": [
      "     -\b-A\bA      Include directory entries whose names begin with a dot (‘_\b.’) except\n"
     ]
    },
    {
     "name": "stdout",
     "output_type": "stream",
     "text": [
      "             for _\b. and _\b._\b..  Automatically set for the super-user unless -\b-I\bI is\n"
     ]
    },
    {
     "name": "stdout",
     "output_type": "stream",
     "text": [
      "             specified.\n"
     ]
    },
    {
     "name": "stdout",
     "output_type": "stream",
     "text": [
      "\n"
     ]
    },
    {
     "name": "stdout",
     "output_type": "stream",
     "text": [
      "     -\b-B\bB      Force printing of non-printable characters (as defined by ctype(3)\n"
     ]
    },
    {
     "name": "stdout",
     "output_type": "stream",
     "text": [
      "             and current locale settings) in file names as \\_\bx_\bx_\bx, where _\bx_\bx_\bx is\n"
     ]
    },
    {
     "name": "stdout",
     "output_type": "stream",
     "text": [
      "             the numeric value of the character in octal.  This option is not\n"
     ]
    },
    {
     "name": "stdout",
     "output_type": "stream",
     "text": [
      "             defined in IEEE Std 1003.1-2008 (“POSIX.1”).\n"
     ]
    },
    {
     "name": "stdout",
     "output_type": "stream",
     "text": [
      "\n"
     ]
    },
    {
     "name": "stdout",
     "output_type": "stream",
     "text": [
      "     -\b-C\bC      Force multi-column output; this is the default when output is to a\n"
     ]
    },
    {
     "name": "stdout",
     "output_type": "stream",
     "text": [
      "             terminal.\n"
     ]
    },
    {
     "name": "stdout",
     "output_type": "stream",
     "text": [
      "\n"
     ]
    },
    {
     "name": "stdout",
     "output_type": "stream",
     "text": [
      "     -\b-D\bD _\bf_\bo_\br_\bm_\ba_\bt\n"
     ]
    },
    {
     "name": "stdout",
     "output_type": "stream",
     "text": [
      "             When printing in the long (-\b-l\bl) format, use _\bf_\bo_\br_\bm_\ba_\bt to format the\n"
     ]
    },
    {
     "name": "stdout",
     "output_type": "stream",
     "text": [
      "             date and time output.  The argument _\bf_\bo_\br_\bm_\ba_\bt is a string used by\n"
     ]
    },
    {
     "name": "stdout",
     "output_type": "stream",
     "text": [
      "             strftime(3).  Depending on the choice of format string, this may\n"
     ]
    },
    {
     "name": "stdout",
     "output_type": "stream",
     "text": [
      "             result in a different number of columns in the output.  This option\n"
     ]
    },
    {
     "name": "stdout",
     "output_type": "stream",
     "text": [
      "             overrides the -\b-T\bT option.  This option is not defined in IEEE Std\n"
     ]
    },
    {
     "name": "stdout",
     "output_type": "stream",
     "text": [
      "             1003.1-2008 (“POSIX.1”).\n"
     ]
    },
    {
     "name": "stdout",
     "output_type": "stream",
     "text": [
      "\n"
     ]
    },
    {
     "name": "stdout",
     "output_type": "stream",
     "text": [
      "     -\b-F\bF      Display a slash (‘/’) immediately after each pathname that is a\n"
     ]
    },
    {
     "name": "stdout",
     "output_type": "stream",
     "text": [
      "             directory, an asterisk (‘*’) after each that is executable, an at\n"
     ]
    },
    {
     "name": "stdout",
     "output_type": "stream",
     "text": [
      "             sign (‘@’) after each symbolic link, an equals sign (‘=’) after\n"
     ]
    },
    {
     "name": "stdout",
     "output_type": "stream",
     "text": [
      "             each socket, a percent sign (‘%’) after each whiteout, and a\n"
     ]
    },
    {
     "name": "stdout",
     "output_type": "stream",
     "text": [
      "             vertical bar (‘|’) after each that is a FIFO.\n"
     ]
    },
    {
     "name": "stdout",
     "output_type": "stream",
     "text": [
      "\n"
     ]
    },
    {
     "name": "stdout",
     "output_type": "stream",
     "text": [
      "     -\b-G\bG      Enable colorized output.  This option is equivalent to defining\n"
     ]
    },
    {
     "name": "stdout",
     "output_type": "stream",
     "text": [
      "             CLICOLOR or COLORTERM in the environment and setting -\b--\b-c\bco\bol\blo\bor\br=_\ba_\bu_\bt_\bo.\n"
     ]
    },
    {
     "name": "stdout",
     "output_type": "stream",
     "text": [
      "             (See below.)  This functionality can be compiled out by removing\n"
     ]
    },
    {
     "name": "stdout",
     "output_type": "stream",
     "text": [
      "             the definition of COLORLS.  This option is not defined in IEEE Std\n"
     ]
    },
    {
     "name": "stdout",
     "output_type": "stream",
     "text": [
      "             1003.1-2008 (“POSIX.1”).\n"
     ]
    },
    {
     "name": "stdout",
     "output_type": "stream",
     "text": [
      "\n"
     ]
    },
    {
     "name": "stdout",
     "output_type": "stream",
     "text": [
      "     -\b-H\bH      Symbolic links on the command line are followed.  This option is\n"
     ]
    },
    {
     "name": "stdout",
     "output_type": "stream",
     "text": [
      "             assumed if none of the -\b-F\bF, -\b-d\bd, or -\b-l\bl options are specified.\n"
     ]
    },
    {
     "name": "stdout",
     "output_type": "stream",
     "text": [
      "\n"
     ]
    },
    {
     "name": "stdout",
     "output_type": "stream",
     "text": [
      "     -\b-I\bI      Prevent -\b-A\bA from being automatically set for the super-user.  This\n"
     ]
    },
    {
     "name": "stdout",
     "output_type": "stream",
     "text": [
      "             option is not defined in IEEE Std 1003.1-2008 (“POSIX.1”).\n"
     ]
    },
    {
     "name": "stdout",
     "output_type": "stream",
     "text": [
      "\n"
     ]
    },
    {
     "name": "stdout",
     "output_type": "stream",
     "text": [
      "     -\b-L\bL      Follow all symbolic links to final target and list the file or\n"
     ]
    },
    {
     "name": "stdout",
     "output_type": "stream",
     "text": [
      "             directory the link references rather than the link itself.  This\n"
     ]
    },
    {
     "name": "stdout",
     "output_type": "stream",
     "text": [
      "             option cancels the -\b-P\bP option.\n"
     ]
    },
    {
     "name": "stdout",
     "output_type": "stream",
     "text": [
      "\n"
     ]
    },
    {
     "name": "stdout",
     "output_type": "stream",
     "text": [
      "     -\b-O\bO      Include the file flags in a long (-\b-l\bl) output.  This option is\n"
     ]
    },
    {
     "name": "stdout",
     "output_type": "stream",
     "text": [
      "             incompatible with IEEE Std 1003.1-2008 (“POSIX.1”).  See chflags(1)\n"
     ]
    },
    {
     "name": "stdout",
     "output_type": "stream",
     "text": [
      "             for a list of file flags and their meanings.\n"
     ]
    },
    {
     "name": "stdout",
     "output_type": "stream",
     "text": [
      "\n"
     ]
    },
    {
     "name": "stdout",
     "output_type": "stream",
     "text": [
      "     -\b-P\bP      If argument is a symbolic link, list the link itself rather than\n"
     ]
    },
    {
     "name": "stdout",
     "output_type": "stream",
     "text": [
      "             the object the link references.  This option cancels the -\b-H\bH and -\b-L\bL\n"
     ]
    },
    {
     "name": "stdout",
     "output_type": "stream",
     "text": [
      "             options.\n"
     ]
    },
    {
     "name": "stdout",
     "output_type": "stream",
     "text": [
      "\n"
     ]
    },
    {
     "name": "stdout",
     "output_type": "stream",
     "text": [
      "     -\b-R\bR      Recursively list subdirectories encountered.\n"
     ]
    },
    {
     "name": "stdout",
     "output_type": "stream",
     "text": [
      "\n"
     ]
    },
    {
     "name": "stdout",
     "output_type": "stream",
     "text": [
      "     -\b-S\bS      Sort by size (largest file first) before sorting the operands in\n"
     ]
    },
    {
     "name": "stdout",
     "output_type": "stream",
     "text": [
      "             lexicographical order.\n"
     ]
    },
    {
     "name": "stdout",
     "output_type": "stream",
     "text": [
      "\n"
     ]
    },
    {
     "name": "stdout",
     "output_type": "stream",
     "text": [
      "     -\b-T\bT      When printing in the long (-\b-l\bl) format, display complete time\n"
     ]
    },
    {
     "name": "stdout",
     "output_type": "stream",
     "text": [
      "             information for the file, including month, day, hour, minute,\n"
     ]
    },
    {
     "name": "stdout",
     "output_type": "stream",
     "text": [
      "             second, and year.  The -\b-D\bD option gives even more control over the\n"
     ]
    },
    {
     "name": "stdout",
     "output_type": "stream",
     "text": [
      "             output format.  This option is not defined in IEEE Std 1003.1-2008\n"
     ]
    },
    {
     "name": "stdout",
     "output_type": "stream",
     "text": [
      "             (“POSIX.1”).\n"
     ]
    },
    {
     "name": "stdout",
     "output_type": "stream",
     "text": [
      "\n"
     ]
    },
    {
     "name": "stdout",
     "output_type": "stream",
     "text": [
      "     -\b-U\bU      Use time when file was created for sorting or printing.  This\n"
     ]
    },
    {
     "name": "stdout",
     "output_type": "stream",
     "text": [
      "             option is not defined in IEEE Std 1003.1-2008 (“POSIX.1”).\n"
     ]
    },
    {
     "name": "stdout",
     "output_type": "stream",
     "text": [
      "\n"
     ]
    },
    {
     "name": "stdout",
     "output_type": "stream",
     "text": [
      "     -\b-W\bW      Display whiteouts when scanning directories.  This option is not\n"
     ]
    },
    {
     "name": "stdout",
     "output_type": "stream",
     "text": [
      "             defined in IEEE Std 1003.1-2008 (“POSIX.1”).\n"
     ]
    },
    {
     "name": "stdout",
     "output_type": "stream",
     "text": [
      "\n"
     ]
    },
    {
     "name": "stdout",
     "output_type": "stream",
     "text": [
      "     -\b-a\ba      Include directory entries whose names begin with a dot (‘_\b.’).\n"
     ]
    },
    {
     "name": "stdout",
     "output_type": "stream",
     "text": [
      "\n"
     ]
    },
    {
     "name": "stdout",
     "output_type": "stream",
     "text": [
      "     -\b-b\bb      As -\b-B\bB, but use C escape codes whenever possible.  This option is\n"
     ]
    },
    {
     "name": "stdout",
     "output_type": "stream",
     "text": [
      "             not defined in IEEE Std 1003.1-2008 (“POSIX.1”).\n"
     ]
    },
    {
     "name": "stdout",
     "output_type": "stream",
     "text": [
      "\n"
     ]
    },
    {
     "name": "stdout",
     "output_type": "stream",
     "text": [
      "     -\b-c\bc      Use time when file status was last changed for sorting or printing.\n"
     ]
    },
    {
     "name": "stdout",
     "output_type": "stream",
     "text": [
      "\n"
     ]
    },
    {
     "name": "stdout",
     "output_type": "stream",
     "text": [
      "     -\b--\b-c\bco\bol\blo\bor\br=_\bw_\bh_\be_\bn\n"
     ]
    },
    {
     "name": "stdout",
     "output_type": "stream",
     "text": [
      "             Output colored escape sequences based on _\bw_\bh_\be_\bn, which may be set to\n"
     ]
    },
    {
     "name": "stdout",
     "output_type": "stream",
     "text": [
      "             either a\bal\blw\bwa\bay\bys\bs, a\bau\but\bto\bo, or n\bne\bev\bve\ber\br.\n"
     ]
    },
    {
     "name": "stdout",
     "output_type": "stream",
     "text": [
      "\n"
     ]
    },
    {
     "name": "stdout",
     "output_type": "stream",
     "text": [
      "             a\bal\blw\bwa\bay\bys\bs will make l\bls\bs always output color.  If TERM is unset or set\n"
     ]
    },
    {
     "name": "stdout",
     "output_type": "stream",
     "text": [
      "             to an invalid terminal, then l\bls\bs will fall back to explicit ANSI\n"
     ]
    },
    {
     "name": "stdout",
     "output_type": "stream",
     "text": [
      "             escape sequences without the help of termcap(5).  a\bal\blw\bwa\bay\bys\bs is the\n"
     ]
    },
    {
     "name": "stdout",
     "output_type": "stream",
     "text": [
      "             default if -\b--\b-c\bco\bol\blo\bor\br is specified without an argument.\n"
     ]
    },
    {
     "name": "stdout",
     "output_type": "stream",
     "text": [
      "\n"
     ]
    },
    {
     "name": "stdout",
     "output_type": "stream",
     "text": [
      "             a\bau\but\bto\bo will make l\bls\bs output escape sequences based on termcap(5), but\n"
     ]
    },
    {
     "name": "stdout",
     "output_type": "stream",
     "text": [
      "             only if stdout is a tty and either the -\b-G\bG flag is specified or the\n"
     ]
    },
    {
     "name": "stdout",
     "output_type": "stream",
     "text": [
      "             COLORTERM environment variable is set and not empty.\n"
     ]
    },
    {
     "name": "stdout",
     "output_type": "stream",
     "text": [
      "\n"
     ]
    },
    {
     "name": "stdout",
     "output_type": "stream",
     "text": [
      "             n\bne\bev\bve\ber\br will disable color regardless of environment variables.\n"
     ]
    },
    {
     "name": "stdout",
     "output_type": "stream",
     "text": [
      "             n\bne\bev\bve\ber\br is the default when neither -\b--\b-c\bco\bol\blo\bor\br nor -\b-G\bG is specified.\n"
     ]
    },
    {
     "name": "stdout",
     "output_type": "stream",
     "text": [
      "\n"
     ]
    },
    {
     "name": "stdout",
     "output_type": "stream",
     "text": [
      "             For compatibility with GNU coreutils, l\bls\bs supports y\bye\bes\bs or f\bfo\bor\brc\bce\be as\n"
     ]
    },
    {
     "name": "stdout",
     "output_type": "stream",
     "text": [
      "             equivalent to a\bal\blw\bwa\bay\bys\bs, n\bno\bo or n\bno\bon\bne\be as equivalent to n\bne\bev\bve\ber\br, and t\btt\bty\by or\n"
     ]
    },
    {
     "name": "stdout",
     "output_type": "stream",
     "text": [
      "             i\bif\bf-\b-t\btt\bty\by as equivalent to a\bau\but\bto\bo.\n"
     ]
    },
    {
     "name": "stdout",
     "output_type": "stream",
     "text": [
      "\n"
     ]
    },
    {
     "name": "stdout",
     "output_type": "stream",
     "text": [
      "     -\b-d\bd      Directories are listed as plain files (not searched recursively).\n"
     ]
    },
    {
     "name": "stdout",
     "output_type": "stream",
     "text": [
      "\n"
     ]
    },
    {
     "name": "stdout",
     "output_type": "stream",
     "text": [
      "     -\b-e\be      Print the Access Control List (ACL) associated with the file, if\n"
     ]
    },
    {
     "name": "stdout",
     "output_type": "stream",
     "text": [
      "             present, in long (-\b-l\bl) output.\n"
     ]
    },
    {
     "name": "stdout",
     "output_type": "stream",
     "text": [
      "\n"
     ]
    },
    {
     "name": "stdout",
     "output_type": "stream",
     "text": [
      "     -\b-f\bf      Output is not sorted.  This option turns on -\b-a\ba.  It also negates\n"
     ]
    },
    {
     "name": "stdout",
     "output_type": "stream",
     "text": [
      "             the effect of the -\b-r\br, -\b-S\bS and -\b-t\bt options.  As allowed by IEEE Std\n"
     ]
    },
    {
     "name": "stdout",
     "output_type": "stream",
     "text": [
      "             1003.1-2008 (“POSIX.1”), this option has no effect on the -\b-d\bd, -\b-l\bl,\n"
     ]
    },
    {
     "name": "stdout",
     "output_type": "stream",
     "text": [
      "             -\b-R\bR and -\b-s\bs options.\r\n"
     ]
    },
    {
     "name": "stdout",
     "output_type": "stream",
     "text": [
      "\n"
     ]
    },
    {
     "name": "stdout",
     "output_type": "stream",
     "text": [
      "     -\b-g\bg      This option has no effect.  It is only available for compatibility\n"
     ]
    },
    {
     "name": "stdout",
     "output_type": "stream",
     "text": [
      "             with 4.3BSD, where it was used to display the group name in the\n"
     ]
    },
    {
     "name": "stdout",
     "output_type": "stream",
     "text": [
      "             long (-\b-l\bl) format output.  This option is incompatible with IEEE Std\n"
     ]
    },
    {
     "name": "stdout",
     "output_type": "stream",
     "text": [
      "             1003.1-2008 (“POSIX.1”).\n"
     ]
    },
    {
     "name": "stdout",
     "output_type": "stream",
     "text": [
      "\n"
     ]
    },
    {
     "name": "stdout",
     "output_type": "stream",
     "text": [
      "     -\b-h\bh      When used with the -\b-l\bl option, use unit suffixes: Byte, Kilobyte,\n"
     ]
    },
    {
     "name": "stdout",
     "output_type": "stream",
     "text": [
      "             Megabyte, Gigabyte, Terabyte and Petabyte in order to reduce the\n"
     ]
    },
    {
     "name": "stdout",
     "output_type": "stream",
     "text": [
      "             number of digits to four or fewer using base 2 for sizes.  This\n"
     ]
    },
    {
     "name": "stdout",
     "output_type": "stream",
     "text": [
      "             option is not defined in IEEE Std 1003.1-2008 (“POSIX.1”).\n"
     ]
    },
    {
     "name": "stdout",
     "output_type": "stream",
     "text": [
      "\n"
     ]
    },
    {
     "name": "stdout",
     "output_type": "stream",
     "text": [
      "     -\b-i\bi      For each file, print the file's file serial number (inode number).\n"
     ]
    },
    {
     "name": "stdout",
     "output_type": "stream",
     "text": [
      "\n"
     ]
    },
    {
     "name": "stdout",
     "output_type": "stream",
     "text": [
      "     -\b-k\bk      This has the same effect as setting environment variable BLOCKSIZE\n"
     ]
    },
    {
     "name": "stdout",
     "output_type": "stream",
     "text": [
      "             to 1024, except that it also nullifies any -\b-h\bh options to its left.\n"
     ]
    },
    {
     "name": "stdout",
     "output_type": "stream",
     "text": [
      "\n"
     ]
    },
    {
     "name": "stdout",
     "output_type": "stream",
     "text": [
      "     -\b-l\bl      (The lowercase letter “ell”.) List files in the long format, as\n"
     ]
    },
    {
     "name": "stdout",
     "output_type": "stream",
     "text": [
      "             described in the _\bT_\bh_\be _\bL_\bo_\bn_\bg _\bF_\bo_\br_\bm_\ba_\bt subsection below.\n"
     ]
    },
    {
     "name": "stdout",
     "output_type": "stream",
     "text": [
      "\n"
     ]
    },
    {
     "name": "stdout",
     "output_type": "stream",
     "text": [
      "     -\b-m\bm      Stream output format; list files across the page, separated by\n"
     ]
    },
    {
     "name": "stdout",
     "output_type": "stream",
     "text": [
      "             commas.\n"
     ]
    },
    {
     "name": "stdout",
     "output_type": "stream",
     "text": [
      "\n"
     ]
    },
    {
     "name": "stdout",
     "output_type": "stream",
     "text": [
      "     -\b-n\bn      Display user and group IDs numerically rather than converting to a\n"
     ]
    },
    {
     "name": "stdout",
     "output_type": "stream",
     "text": [
      "             user or group name in a long (-\b-l\bl) output.  This option turns on the\n"
     ]
    },
    {
     "name": "stdout",
     "output_type": "stream",
     "text": [
      "             -\b-l\bl option.\n"
     ]
    },
    {
     "name": "stdout",
     "output_type": "stream",
     "text": [
      "\n"
     ]
    },
    {
     "name": "stdout",
     "output_type": "stream",
     "text": [
      "     -\b-o\bo      List in long format, but omit the group id.\n"
     ]
    },
    {
     "name": "stdout",
     "output_type": "stream",
     "text": [
      "\n"
     ]
    },
    {
     "name": "stdout",
     "output_type": "stream",
     "text": [
      "     -\b-p\bp      Write a slash (‘/’) after each filename if that file is a\n"
     ]
    },
    {
     "name": "stdout",
     "output_type": "stream",
     "text": [
      "             directory.\n"
     ]
    },
    {
     "name": "stdout",
     "output_type": "stream",
     "text": [
      "\n"
     ]
    },
    {
     "name": "stdout",
     "output_type": "stream",
     "text": [
      "     -\b-q\bq      Force printing of non-graphic characters in file names as the\n"
     ]
    },
    {
     "name": "stdout",
     "output_type": "stream",
     "text": [
      "             character ‘?’; this is the default when output is to a terminal.\n"
     ]
    },
    {
     "name": "stdout",
     "output_type": "stream",
     "text": [
      "\n"
     ]
    },
    {
     "name": "stdout",
     "output_type": "stream",
     "text": [
      "     -\b-r\br      Reverse the order of the sort.\n"
     ]
    },
    {
     "name": "stdout",
     "output_type": "stream",
     "text": [
      "\n"
     ]
    },
    {
     "name": "stdout",
     "output_type": "stream",
     "text": [
      "     -\b-s\bs      Display the number of blocks used in the file system by each file.\n"
     ]
    },
    {
     "name": "stdout",
     "output_type": "stream",
     "text": [
      "             Block sizes and directory totals are handled as described in _\bT_\bh_\be\n"
     ]
    },
    {
     "name": "stdout",
     "output_type": "stream",
     "text": [
      "             _\bL_\bo_\bn_\bg _\bF_\bo_\br_\bm_\ba_\bt subsection below, except (if the long format is not\n"
     ]
    },
    {
     "name": "stdout",
     "output_type": "stream",
     "text": [
      "             also requested) the directory totals are not output when the output\n"
     ]
    },
    {
     "name": "stdout",
     "output_type": "stream",
     "text": [
      "             is in a single column, even if multi-column output is requested.\n"
     ]
    },
    {
     "name": "stdout",
     "output_type": "stream",
     "text": [
      "             (-\b-l\bl) format, display complete time information for the file,\n"
     ]
    },
    {
     "name": "stdout",
     "output_type": "stream",
     "text": [
      "             including month, day, hour, minute, second, and year.  The -\b-D\bD\n"
     ]
    },
    {
     "name": "stdout",
     "output_type": "stream",
     "text": [
      "             option gives even more control over the output format.  This option\n"
     ]
    },
    {
     "name": "stdout",
     "output_type": "stream",
     "text": [
      "             is not defined in IEEE Std 1003.1-2008 (“POSIX.1”).\n"
     ]
    },
    {
     "name": "stdout",
     "output_type": "stream",
     "text": [
      "\n"
     ]
    },
    {
     "name": "stdout",
     "output_type": "stream",
     "text": [
      "     -\b-t\bt      Sort by descending time modified (most recently modified first).\n"
     ]
    },
    {
     "name": "stdout",
     "output_type": "stream",
     "text": [
      "             If two files have the same modification timestamp, sort their names\n"
     ]
    },
    {
     "name": "stdout",
     "output_type": "stream",
     "text": [
      "             in ascending lexicographical order.  The -\b-r\br option reverses both of\n"
     ]
    },
    {
     "name": "stdout",
     "output_type": "stream",
     "text": [
      "             these sort orders.\n"
     ]
    },
    {
     "name": "stdout",
     "output_type": "stream",
     "text": [
      "\n"
     ]
    },
    {
     "name": "stdout",
     "output_type": "stream",
     "text": [
      "             Note that these sort orders are contradictory: the time sequence is\n"
     ]
    },
    {
     "name": "stdout",
     "output_type": "stream",
     "text": [
      "             in descending order, the lexicographical sort is in ascending\n"
     ]
    },
    {
     "name": "stdout",
     "output_type": "stream",
     "text": [
      "             order.  This behavior is mandated by IEEE Std 1003.2 (“POSIX.2”).\n"
     ]
    },
    {
     "name": "stdout",
     "output_type": "stream",
     "text": [
      "             This feature can cause problems listing files stored with\n"
     ]
    },
    {
     "name": "stdout",
     "output_type": "stream",
     "text": [
      "             sequential names on FAT file systems, such as from digital cameras,\n"
     ]
    },
    {
     "name": "stdout",
     "output_type": "stream",
     "text": [
      "             where it is possible to have more than one image with the same\n"
     ]
    },
    {
     "name": "stdout",
     "output_type": "stream",
     "text": [
      "             timestamp.  In such a case, the photos cannot be listed in the\n"
     ]
    },
    {
     "name": "stdout",
     "output_type": "stream",
     "text": [
      "             sequence in which they were taken.  To ensure the same sort order\n"
     ]
    },
    {
     "name": "stdout",
     "output_type": "stream",
     "text": [
      "             for time and for lexicographical sorting, set the environment\n"
     ]
    },
    {
     "name": "stdout",
     "output_type": "stream",
     "text": [
      "             variable LS_SAMESORT or use the -\b-y\by option.  This causes l\bls\bs to\n"
     ]
    },
    {
     "name": "stdout",
     "output_type": "stream",
     "text": [
      "             reverse the lexicographical sort order when sorting files with the\n"
     ]
    },
    {
     "name": "stdout",
     "output_type": "stream",
     "text": [
      "             same modification timestamp.\n"
     ]
    },
    {
     "name": "stdout",
     "output_type": "stream",
     "text": [
      "\n"
     ]
    },
    {
     "name": "stdout",
     "output_type": "stream",
     "text": [
      "     -\b-u\bu      Use time of last access, instead of time of last modification of\n"
     ]
    },
    {
     "name": "stdout",
     "output_type": "stream",
     "text": [
      "             the file for sorting (-\b-t\bt) or long printing (-\b-l\bl).\n"
     ]
    },
    {
     "name": "stdout",
     "output_type": "stream",
     "text": [
      "\n"
     ]
    },
    {
     "name": "stdout",
     "output_type": "stream",
     "text": [
      "     -\b-v\bv      Force unedited printing of non-graphic characters; this is the\n"
     ]
    },
    {
     "name": "stdout",
     "output_type": "stream",
     "text": [
      "             default when output is not to a terminal.\n"
     ]
    },
    {
     "name": "stdout",
     "output_type": "stream",
     "text": [
      "\n"
     ]
    },
    {
     "name": "stdout",
     "output_type": "stream",
     "text": [
      "     -\b-w\bw      Force raw printing of non-printable characters.  This is the\n"
     ]
    },
    {
     "name": "stdout",
     "output_type": "stream",
     "text": [
      "             default when output is not to a terminal.  This option is not\n"
     ]
    },
    {
     "name": "stdout",
     "output_type": "stream",
     "text": [
      "             defined in IEEE Std 1003.1-2001 (“POSIX.1”).\n"
     ]
    },
    {
     "name": "stdout",
     "output_type": "stream",
     "text": [
      "\n"
     ]
    },
    {
     "name": "stdout",
     "output_type": "stream",
     "text": [
      "     -\b-x\bx      The same as -\b-C\bC, except that the multi-column output is produced\n"
     ]
    },
    {
     "name": "stdout",
     "output_type": "stream",
     "text": [
      "             with entries sorted across, rather than down, the columns.\n"
     ]
    },
    {
     "name": "stdout",
     "output_type": "stream",
     "text": [
      "\n"
     ]
    },
    {
     "name": "stdout",
     "output_type": "stream",
     "text": [
      "     -\b-y\by      When the -\b-t\bt option is set, sort the alphabetical output in the same\n"
     ]
    },
    {
     "name": "stdout",
     "output_type": "stream",
     "text": [
      "             order as the time output.  This has the same effect as setting\n"
     ]
    },
    {
     "name": "stdout",
     "output_type": "stream",
     "text": [
      "             LS_SAMESORT.  See the description of the -\b-t\bt option for more\n"
     ]
    },
    {
     "name": "stdout",
     "output_type": "stream",
     "text": [
      "             details.  This option is not defined in IEEE Std 1003.1-2001\n"
     ]
    },
    {
     "name": "stdout",
     "output_type": "stream",
     "text": [
      "             (“POSIX.1”).\n"
     ]
    },
    {
     "name": "stdout",
     "output_type": "stream",
     "text": [
      "\n"
     ]
    },
    {
     "name": "stdout",
     "output_type": "stream",
     "text": [
      "     -\b-%\b%      Distinguish dataless files and directories with a '%' character in\n"
     ]
    },
    {
     "name": "stdout",
     "output_type": "stream",
     "text": [
      "             long\n"
     ]
    },
    {
     "name": "stdout",
     "output_type": "stream",
     "text": [
      "\n"
     ]
    },
    {
     "name": "stdout",
     "output_type": "stream",
     "text": [
      "     -\b-1\b1      (The numeric digit “one”.) Force output to be one entry per line.\n"
     ]
    },
    {
     "name": "stdout",
     "output_type": "stream",
     "text": [
      "             This is the default when output is not to a terminal.  (-\b-l\bl) output,\n"
     ]
    },
    {
     "name": "stdout",
     "output_type": "stream",
     "text": [
      "             and don't materialize dataless directories when listing them.\n"
     ]
    },
    {
     "name": "stdout",
     "output_type": "stream",
     "text": [
      "\n"
     ]
    },
    {
     "name": "stdout",
     "output_type": "stream",
     "text": [
      "     -\b-,      (Comma) When the -\b-l\bl option is set, print file sizes grouped and\n"
     ]
    },
    {
     "name": "stdout",
     "output_type": "stream",
     "text": [
      "             separated by thousands using the non-monetary separator returned by\n"
     ]
    },
    {
     "name": "stdout",
     "output_type": "stream",
     "text": [
      "             localeconv(3), typically a comma or period.  If no locale is set,\n"
     ]
    },
    {
     "name": "stdout",
     "output_type": "stream",
     "text": [
      "             or the locale does not have a non-monetary separator, this option\n"
     ]
    },
    {
     "name": "stdout",
     "output_type": "stream",
     "text": [
      "             has no effect.  This option is not defined in IEEE Std 1003.1-2001\n"
     ]
    },
    {
     "name": "stdout",
     "output_type": "stream",
     "text": [
      "             (“POSIX.1”).\n"
     ]
    },
    {
     "name": "stdout",
     "output_type": "stream",
     "text": [
      "\n"
     ]
    },
    {
     "name": "stdout",
     "output_type": "stream",
     "text": [
      "     The -\b-1\b1, -\b-C\bC, -\b-x\bx, and -\b-l\bl options all override each other; the last one\n"
     ]
    },
    {
     "name": "stdout",
     "output_type": "stream",
     "text": [
      "     specified determines the format used.\n"
     ]
    },
    {
     "name": "stdout",
     "output_type": "stream",
     "text": [
      "\n"
     ]
    },
    {
     "name": "stdout",
     "output_type": "stream",
     "text": [
      "     The -\b-c\bc, -\b-u\bu, and -\b-U\bU options all override each other; the last one specified\n"
     ]
    },
    {
     "name": "stdout",
     "output_type": "stream",
     "text": [
      "     determines the file time used.\n"
     ]
    },
    {
     "name": "stdout",
     "output_type": "stream",
     "text": [
      "\n"
     ]
    },
    {
     "name": "stdout",
     "output_type": "stream",
     "text": [
      "     The -\b-S\bS and -\b-t\bt options override each other; the last one specified\n"
     ]
    },
    {
     "name": "stdout",
     "output_type": "stream",
     "text": [
      "     determines the sort order used.\n"
     ]
    },
    {
     "name": "stdout",
     "output_type": "stream",
     "text": [
      "\n"
     ]
    },
    {
     "name": "stdout",
     "output_type": "stream",
     "text": [
      "     The -\b-B\bB, -\b-b\bb, -\b-w\bw, and -\b-q\bq options all override each other; the last one\n"
     ]
    },
    {
     "name": "stdout",
     "output_type": "stream",
     "text": [
      "     specified determines the format used for non-printable characters.\n"
     ]
    },
    {
     "name": "stdout",
     "output_type": "stream",
     "text": [
      "\n"
     ]
    },
    {
     "name": "stdout",
     "output_type": "stream",
     "text": [
      "     The -\b-H\bH, -\b-L\bL and -\b-P\bP options all override each other (either partially or\n"
     ]
    },
    {
     "name": "stdout",
     "output_type": "stream",
     "text": [
      "     fully); they are applied in the order specified.\n"
     ]
    },
    {
     "name": "stdout",
     "output_type": "stream",
     "text": [
      "\n"
     ]
    },
    {
     "name": "stdout",
     "output_type": "stream",
     "text": [
      "     By default, l\bls\bs lists one entry per line to standard output; the exceptions\n"
     ]
    },
    {
     "name": "stdout",
     "output_type": "stream",
     "text": [
      "     are to terminals or when the -\b-C\bC or -\b-x\bx options are specified.\n"
     ]
    },
    {
     "name": "stdout",
     "output_type": "stream",
     "text": [
      "\n"
     ]
    },
    {
     "name": "stdout",
     "output_type": "stream",
     "text": [
      "     File information is displayed with one or more ⟨blank⟩s separating the\n"
     ]
    },
    {
     "name": "stdout",
     "output_type": "stream",
     "text": [
      "     information associated with the -\b-i\bi, -\b-s\bs, and -\b-l\bl options.\n"
     ]
    },
    {
     "name": "stdout",
     "output_type": "stream",
     "text": [
      "\n"
     ]
    },
    {
     "name": "stdout",
     "output_type": "stream",
     "text": [
      "   T\bTh\bhe\be L\bLo\bon\bng\bg F\bFo\bor\brm\bma\bat\bt\n"
     ]
    },
    {
     "name": "stdout",
     "output_type": "stream",
     "text": [
      "     If the -\b-l\bl option is given, the following information is displayed for each\n"
     ]
    },
    {
     "name": "stdout",
     "output_type": "stream",
     "text": [
      "     file: file mode, number of links, owner name, group name, number of bytes\n"
     ]
    },
    {
     "name": "stdout",
     "output_type": "stream",
     "text": [
      "     in the file, abbreviated month, day-of-month file was last modified, hour\n"
     ]
    },
    {
     "name": "stdout",
     "output_type": "stream",
     "text": [
      "     file last modified, minute file last modified, and the pathname.  If the\n"
     ]
    },
    {
     "name": "stdout",
     "output_type": "stream",
     "text": [
      "     file or directory has extended attributes, the permissions field printed by\n"
     ]
    },
    {
     "name": "stdout",
     "output_type": "stream",
     "text": [
      "     the -\b-l\bl option is followed by a '@' character.  Otherwise, if the file or\n"
     ]
    },
    {
     "name": "stdout",
     "output_type": "stream",
     "text": [
      "     directory has extended security information (such as an access control\n"
     ]
    },
    {
     "name": "stdout",
     "output_type": "stream",
     "text": [
      "     list), the permissions field printed by the -\b-l\bl option is followed by a '+'\n"
     ]
    },
    {
     "name": "stdout",
     "output_type": "stream",
     "text": [
      "     character.  If the -\b-%\b% option is given, a '%' character follows the\n"
     ]
    },
    {
     "name": "stdout",
     "output_type": "stream",
     "text": [
      "     permissions field for dataless files and directories, possibly replacing\n"
     ]
    },
    {
     "name": "stdout",
     "output_type": "stream",
     "text": [
      "     the '@' or '+' character.\n"
     ]
    },
    {
     "name": "stdout",
     "output_type": "stream",
     "text": [
      "\n"
     ]
    },
    {
     "name": "stdout",
     "output_type": "stream",
     "text": [
      "     If the modification time of the file is more than 6 months in the past or\n"
     ]
    },
    {
     "name": "stdout",
     "output_type": "stream",
     "text": [
      "     future, and the -\b-D\bD or -\b-T\bT are not specified, then the year of the last\n"
     ]
    },
    {
     "name": "stdout",
     "output_type": "stream",
     "text": [
      "     modification is displayed in place of the hour and minute fields.\n"
     ]
    },
    {
     "name": "stdout",
     "output_type": "stream",
     "text": [
      "\n"
     ]
    },
    {
     "name": "stdout",
     "output_type": "stream",
     "text": [
      "     If the owner or group names are not a known user or group name, or the -\b-n\bn\n"
     ]
    },
    {
     "name": "stdout",
     "output_type": "stream",
     "text": [
      "     option is given, the numeric ID's are displayed.\n"
     ]
    },
    {
     "name": "stdout",
     "output_type": "stream",
     "text": [
      "\n"
     ]
    },
    {
     "name": "stdout",
     "output_type": "stream",
     "text": [
      "     If the file is a character special or block special file, the device number\n"
     ]
    },
    {
     "name": "stdout",
     "output_type": "stream",
     "text": [
      "     for the file is displayed in the size field.  If the file is a symbolic\n"
     ]
    },
    {
     "name": "stdout",
     "output_type": "stream",
     "text": [
      "     link the pathname of the linked-to file is preceded by “->”.\n"
     ]
    },
    {
     "name": "stdout",
     "output_type": "stream",
     "text": [
      "\n"
     ]
    },
    {
     "name": "stdout",
     "output_type": "stream",
     "text": [
      "     The listing of a directory's contents is preceded by a labeled total number\n"
     ]
    },
    {
     "name": "stdout",
     "output_type": "stream",
     "text": [
      "     of blocks used in the file system by the files which are listed as the\n"
     ]
    },
    {
     "name": "stdout",
     "output_type": "stream",
     "text": [
      "     directory's contents (which may or may not include _\b. and _\b._\b. and other files\n"
     ]
    },
    {
     "name": "stdout",
     "output_type": "stream",
     "text": [
      "     which start with a dot, depending on other options).\n"
     ]
    },
    {
     "name": "stdout",
     "output_type": "stream",
     "text": [
      "\n"
     ]
    },
    {
     "name": "stdout",
     "output_type": "stream",
     "text": [
      "     The default block size is 512 bytes.  The block size may be set with option\n"
     ]
    },
    {
     "name": "stdout",
     "output_type": "stream",
     "text": [
      "     -\b-k\bk or environment variable BLOCKSIZE.  Numbers of blocks in the output will\n"
     ]
    },
    {
     "name": "stdout",
     "output_type": "stream",
     "text": [
      "     have been rounded up so the numbers of bytes is at least as many as used by\n"
     ]
    },
    {
     "name": "stdout",
     "output_type": "stream",
     "text": [
      "     the corresponding file system blocks (which might have a different size).\n"
     ]
    },
    {
     "name": "stdout",
     "output_type": "stream",
     "text": [
      "\n"
     ]
    },
    {
     "name": "stdout",
     "output_type": "stream",
     "text": [
      "     The file mode printed under the -\b-l\bl option consists of the entry type and\n"
     ]
    },
    {
     "name": "stdout",
     "output_type": "stream",
     "text": [
      "     the permissions.  The entry type character describes the type of file, as\n"
     ]
    },
    {
     "name": "stdout",
     "output_type": "stream",
     "text": [
      "     follows:\n"
     ]
    },
    {
     "name": "stdout",
     "output_type": "stream",
     "text": [
      "\n"
     ]
    },
    {
     "name": "stdout",
     "output_type": "stream",
     "text": [
      "           -\b-     Regular file.\n"
     ]
    },
    {
     "name": "stdout",
     "output_type": "stream",
     "text": [
      "           b\bb     Block special file.\n"
     ]
    },
    {
     "name": "stdout",
     "output_type": "stream",
     "text": [
      "           c\bc     Character special file.\n"
     ]
    },
    {
     "name": "stdout",
     "output_type": "stream",
     "text": [
      "           d\bd     Directory.\n"
     ]
    },
    {
     "name": "stdout",
     "output_type": "stream",
     "text": [
      "           l\bl     Symbolic link.\n"
     ]
    },
    {
     "name": "stdout",
     "output_type": "stream",
     "text": [
      "           p\bp     FIFO.\n"
     ]
    },
    {
     "name": "stdout",
     "output_type": "stream",
     "text": [
      "           s\bs     Socket.\n"
     ]
    },
    {
     "name": "stdout",
     "output_type": "stream",
     "text": [
      "           w\bw     Whiteout.\n"
     ]
    },
    {
     "name": "stdout",
     "output_type": "stream",
     "text": [
      "\n"
     ]
    },
    {
     "name": "stdout",
     "output_type": "stream",
     "text": [
      "     The next three fields are three characters each: owner permissions, group\n"
     ]
    },
    {
     "name": "stdout",
     "output_type": "stream",
     "text": [
      "     permissions, and other permissions.  Each field has three character\n"
     ]
    },
    {
     "name": "stdout",
     "output_type": "stream",
     "text": [
      "     positions:\n"
     ]
    },
    {
     "name": "stdout",
     "output_type": "stream",
     "text": [
      "\n"
     ]
    },
    {
     "name": "stdout",
     "output_type": "stream",
     "text": [
      "           1.   If r\br, the file is readable; if -\b-, it is not readable.\n"
     ]
    },
    {
     "name": "stdout",
     "output_type": "stream",
     "text": [
      "\n"
     ]
    },
    {
     "name": "stdout",
     "output_type": "stream",
     "text": [
      "           2.   If w\bw, the file is writable; if -\b-, it is not writable.\n"
     ]
    },
    {
     "name": "stdout",
     "output_type": "stream",
     "text": [
      "\n"
     ]
    },
    {
     "name": "stdout",
     "output_type": "stream",
     "text": [
      "           3.   The first of the following that applies:\n"
     ]
    },
    {
     "name": "stdout",
     "output_type": "stream",
     "text": [
      "\n"
     ]
    },
    {
     "name": "stdout",
     "output_type": "stream",
     "text": [
      "                      S\bS     If in the owner permissions, the file is not\n"
     ]
    },
    {
     "name": "stdout",
     "output_type": "stream",
     "text": [
      "                            executable and set-user-ID mode is set.  If in the\n"
     ]
    },
    {
     "name": "stdout",
     "output_type": "stream",
     "text": [
      "                            group permissions, the file is not executable and\n"
     ]
    },
    {
     "name": "stdout",
     "output_type": "stream",
     "text": [
      "                            set-group-ID mode is set.\n"
     ]
    },
    {
     "name": "stdout",
     "output_type": "stream",
     "text": [
      "\n"
     ]
    },
    {
     "name": "stdout",
     "output_type": "stream",
     "text": [
      "                      s\bs     If in the owner permissions, the file is executable\n"
     ]
    },
    {
     "name": "stdout",
     "output_type": "stream",
     "text": [
      "                            and set-user-ID mode is set.  If in the group\n"
     ]
    },
    {
     "name": "stdout",
     "output_type": "stream",
     "text": [
      "                            permissions, the file is executable and setgroup-ID\n"
     ]
    },
    {
     "name": "stdout",
     "output_type": "stream",
     "text": [
      "                            mode is set.\n"
     ]
    },
    {
     "name": "stdout",
     "output_type": "stream",
     "text": [
      "\n"
     ]
    },
    {
     "name": "stdout",
     "output_type": "stream",
     "text": [
      "                      x\bx     The file is executable or the directory is\n"
     ]
    },
    {
     "name": "stdout",
     "output_type": "stream",
     "text": [
      "                            searchable.\n"
     ]
    },
    {
     "name": "stdout",
     "output_type": "stream",
     "text": [
      "\n"
     ]
    },
    {
     "name": "stdout",
     "output_type": "stream",
     "text": [
      "                      -\b-     The file is neither readable, writable, executable,\n"
     ]
    },
    {
     "name": "stdout",
     "output_type": "stream",
     "text": [
      "                            nor set-user-ID nor set-group-ID mode, nor sticky.\n"
     ]
    },
    {
     "name": "stdout",
     "output_type": "stream",
     "text": [
      "                            (See below.)\n"
     ]
    },
    {
     "name": "stdout",
     "output_type": "stream",
     "text": [
      "\n"
     ]
    },
    {
     "name": "stdout",
     "output_type": "stream",
     "text": [
      "                These next two apply only to the third character in the last\n"
     ]
    },
    {
     "name": "stdout",
     "output_type": "stream",
     "text": [
      "                group (other permissions).\n"
     ]
    },
    {
     "name": "stdout",
     "output_type": "stream",
     "text": [
      "\n"
     ]
    },
    {
     "name": "stdout",
     "output_type": "stream",
     "text": [
      "                      T\bT     The sticky bit is set (mode 1000), but not execute\n"
     ]
    },
    {
     "name": "stdout",
     "output_type": "stream",
     "text": [
      "                            or search permission.  (See chmod(1) or sticky(7).)\n"
     ]
    },
    {
     "name": "stdout",
     "output_type": "stream",
     "text": [
      "\n"
     ]
    },
    {
     "name": "stdout",
     "output_type": "stream",
     "text": [
      "                      t\bt     The sticky bit is set (mode 1000), and is searchable\n"
     ]
    },
    {
     "name": "stdout",
     "output_type": "stream",
     "text": [
      "                            or executable.  (See chmod(1) or sticky(7).)\n"
     ]
    },
    {
     "name": "stdout",
     "output_type": "stream",
     "text": [
      "\n"
     ]
    },
    {
     "name": "stdout",
     "output_type": "stream",
     "text": [
      "     The next field contains a plus (‘+’) character if the file has an ACL, or a\n"
     ]
    },
    {
     "name": "stdout",
     "output_type": "stream",
     "text": [
      "     space (‘ ’) if it does not.  The l\bls\bs utility does not show the actual ACL;\n"
     ]
    },
    {
     "name": "stdout",
     "output_type": "stream",
     "text": [
      "     use getfacl(1) to do this.\n"
     ]
    },
    {
     "name": "stdout",
     "output_type": "stream",
     "text": [
      "\n"
     ]
    },
    {
     "name": "stdout",
     "output_type": "stream",
     "text": [
      "E\bEN\bNV\bVI\bIR\bRO\bON\bNM\bME\bEN\bNT\bT\n"
     ]
    },
    {
     "name": "stdout",
     "output_type": "stream",
     "text": [
      "     The following environment variables affect the execution of l\bls\bs:\n"
     ]
    },
    {
     "name": "stdout",
     "output_type": "stream",
     "text": [
      "\n"
     ]
    },
    {
     "name": "stdout",
     "output_type": "stream",
     "text": [
      "     BLOCKSIZE           If this is set, its value, rounded up to 512 or down to\n"
     ]
    },
    {
     "name": "stdout",
     "output_type": "stream",
     "text": [
      "                         a multiple of 512, will be used as the block size in\n"
     ]
    },
    {
     "name": "stdout",
     "output_type": "stream",
     "text": [
      "                         bytes by the -\b-l\bl and -\b-s\bs options.  See _\bT_\bh_\be _\bL_\bo_\bn_\bg _\bF_\bo_\br_\bm_\ba_\bt\n"
     ]
    },
    {
     "name": "stdout",
     "output_type": "stream",
     "text": [
      "                         subsection for more information.\n"
     ]
    },
    {
     "name": "stdout",
     "output_type": "stream",
     "text": [
      "\n"
     ]
    },
    {
     "name": "stdout",
     "output_type": "stream",
     "text": [
      "     CLICOLOR            Use ANSI color sequences to distinguish file types.\n"
     ]
    },
    {
     "name": "stdout",
     "output_type": "stream",
     "text": [
      "                         See LSCOLORS below.  In addition to the file types\n"
     ]
    },
    {
     "name": "stdout",
     "output_type": "stream",
     "text": [
      "                         mentioned in the -\b-F\bF option some extra attributes\n"
     ]
    },
    {
     "name": "stdout",
     "output_type": "stream",
     "text": [
      "                         (setuid bit set, etc.) are also displayed.  The\n"
     ]
    },
    {
     "name": "stdout",
     "output_type": "stream",
     "text": [
      "                         colorization is dependent on a terminal type with the\n"
     ]
    },
    {
     "name": "stdout",
     "output_type": "stream",
     "text": [
      "                         proper termcap(5) capabilities.  The default “cons25”\n"
     ]
    },
    {
     "name": "stdout",
     "output_type": "stream",
     "text": [
      "                         console has the proper capabilities, but to display the\n"
     ]
    },
    {
     "name": "stdout",
     "output_type": "stream",
     "text": [
      "                         colors in an xterm(1), for example, the TERM variable\n"
     ]
    },
    {
     "name": "stdout",
     "output_type": "stream",
     "text": [
      "                         must be set to “xterm-color”.  Other terminal types may\n"
     ]
    },
    {
     "name": "stdout",
     "output_type": "stream",
     "text": [
      "                         require similar adjustments.  Colorization is silently\n"
     ]
    },
    {
     "name": "stdout",
     "output_type": "stream",
     "text": [
      "                         disabled if the output is not directed to a terminal\n"
     ]
    },
    {
     "name": "stdout",
     "output_type": "stream",
     "text": [
      "                         unless the CLICOLOR_FORCE variable is defined or\n"
     ]
    },
    {
     "name": "stdout",
     "output_type": "stream",
     "text": [
      "                         -\b--\b-c\bco\bol\blo\bor\br is set to “always”.\n"
     ]
    },
    {
     "name": "stdout",
     "output_type": "stream",
     "text": [
      "\n"
     ]
    },
    {
     "name": "stdout",
     "output_type": "stream",
     "text": [
      "     CLICOLOR_FORCE      Color sequences are normally disabled if the output is\n"
     ]
    },
    {
     "name": "stdout",
     "output_type": "stream",
     "text": [
      "                         not directed to a terminal.  This can be overridden by\n"
     ]
    },
    {
     "name": "stdout",
     "output_type": "stream",
     "text": [
      "                         setting this variable.  The TERM variable still needs\n"
     ]
    },
    {
     "name": "stdout",
     "output_type": "stream",
     "text": [
      "                         to reference a color capable terminal however otherwise\n"
     ]
    },
    {
     "name": "stdout",
     "output_type": "stream",
     "text": [
      "                         it is not possible to determine which color sequences\n"
     ]
    },
    {
     "name": "stdout",
     "output_type": "stream",
     "text": [
      "                         to use.\n"
     ]
    },
    {
     "name": "stdout",
     "output_type": "stream",
     "text": [
      "\n"
     ]
    },
    {
     "name": "stdout",
     "output_type": "stream",
     "text": [
      "     COLORTERM           See description for CLICOLOR above.\n"
     ]
    },
    {
     "name": "stdout",
     "output_type": "stream",
     "text": [
      "\n"
     ]
    },
    {
     "name": "stdout",
     "output_type": "stream",
     "text": [
      "     COLUMNS             If this variable contains a string representing a\n"
     ]
    },
    {
     "name": "stdout",
     "output_type": "stream",
     "text": [
      "                         decimal integer, it is used as the column position\n"
     ]
    },
    {
     "name": "stdout",
     "output_type": "stream",
     "text": [
      "                         width for displaying multiple-text-column output.  The\n"
     ]
    },
    {
     "name": "stdout",
     "output_type": "stream",
     "text": [
      "                         l\bls\bs utility calculates how many pathname text columns to\n"
     ]
    },
    {
     "name": "stdout",
     "output_type": "stream",
     "text": [
      "                         display based on the width provided.  (See -\b-C\bC and -\b-x\bx.)\n"
     ]
    },
    {
     "name": "stdout",
     "output_type": "stream",
     "text": [
      "\n"
     ]
    },
    {
     "name": "stdout",
     "output_type": "stream",
     "text": [
      "     LANG                The locale to use when determining the order of day and\n"
     ]
    },
    {
     "name": "stdout",
     "output_type": "stream",
     "text": [
      "                         month in the long -\b-l\bl format output.  See environ(7) for\n"
     ]
    },
    {
     "name": "stdout",
     "output_type": "stream",
     "text": [
      "                         more information.\n"
     ]
    },
    {
     "name": "stdout",
     "output_type": "stream",
     "text": [
      "\n"
     ]
    },
    {
     "name": "stdout",
     "output_type": "stream",
     "text": [
      "     LSCOLORS            The value of this variable describes what color to use\n"
     ]
    },
    {
     "name": "stdout",
     "output_type": "stream",
     "text": [
      "                         for which attribute when colors are enabled with\n"
     ]
    },
    {
     "name": "stdout",
     "output_type": "stream",
     "text": [
      "                         CLICOLOR or COLORTERM.  This string is a concatenation\n"
     ]
    },
    {
     "name": "stdout",
     "output_type": "stream",
     "text": [
      "                         of pairs of the format _\bf_\bb, where _\bf is the foreground\n"
     ]
    },
    {
     "name": "stdout",
     "output_type": "stream",
     "text": [
      "                         color and _\bb is the background color.\n"
     ]
    },
    {
     "name": "stdout",
     "output_type": "stream",
     "text": [
      "\n"
     ]
    },
    {
     "name": "stdout",
     "output_type": "stream",
     "text": [
      "                         The color designators are as follows:\n"
     ]
    },
    {
     "name": "stdout",
     "output_type": "stream",
     "text": [
      "\n"
     ]
    },
    {
     "name": "stdout",
     "output_type": "stream",
     "text": [
      "                               a\ba     black\n"
     ]
    },
    {
     "name": "stdout",
     "output_type": "stream",
     "text": [
      "                               b\bb     red\n"
     ]
    },
    {
     "name": "stdout",
     "output_type": "stream",
     "text": [
      "                               c\bc     green\n"
     ]
    },
    {
     "name": "stdout",
     "output_type": "stream",
     "text": [
      "                               d\bd     brown\n"
     ]
    },
    {
     "name": "stdout",
     "output_type": "stream",
     "text": [
      "                               e\be     blue\n"
     ]
    },
    {
     "name": "stdout",
     "output_type": "stream",
     "text": [
      "                               f\bf     magenta\n"
     ]
    },
    {
     "name": "stdout",
     "output_type": "stream",
     "text": [
      "                               g\bg     cyan\n"
     ]
    },
    {
     "name": "stdout",
     "output_type": "stream",
     "text": [
      "                               h\bh     light grey\n"
     ]
    },
    {
     "name": "stdout",
     "output_type": "stream",
     "text": [
      "                               A\bA     bold black, usually shows up as dark grey\n"
     ]
    },
    {
     "name": "stdout",
     "output_type": "stream",
     "text": [
      "                               B\bB     bold red\n"
     ]
    },
    {
     "name": "stdout",
     "output_type": "stream",
     "text": [
      "                               C\bC     bold green\n"
     ]
    },
    {
     "name": "stdout",
     "output_type": "stream",
     "text": [
      "                               D\bD     bold brown, usually shows up as yellow\n"
     ]
    },
    {
     "name": "stdout",
     "output_type": "stream",
     "text": [
      "                               E\bE     bold blue\n"
     ]
    },
    {
     "name": "stdout",
     "output_type": "stream",
     "text": [
      "                               F\bF     bold magenta\n"
     ]
    },
    {
     "name": "stdout",
     "output_type": "stream",
     "text": [
      "                               G\bG     bold cyan\n"
     ]
    },
    {
     "name": "stdout",
     "output_type": "stream",
     "text": [
      "                               H\bH     bold light grey; looks like bright white\n"
     ]
    },
    {
     "name": "stdout",
     "output_type": "stream",
     "text": [
      "                               x\bx     default foreground or background\n"
     ]
    },
    {
     "name": "stdout",
     "output_type": "stream",
     "text": [
      "\n"
     ]
    },
    {
     "name": "stdout",
     "output_type": "stream",
     "text": [
      "                         Note that the above are standard ANSI colors.  The\n"
     ]
    },
    {
     "name": "stdout",
     "output_type": "stream",
     "text": [
      "                         actual display may differ depending on the color\n"
     ]
    },
    {
     "name": "stdout",
     "output_type": "stream",
     "text": [
      "                         capabilities of the terminal in use.\n"
     ]
    },
    {
     "name": "stdout",
     "output_type": "stream",
     "text": [
      "\n"
     ]
    },
    {
     "name": "stdout",
     "output_type": "stream",
     "text": [
      "                         The order of the attributes are as follows:\n"
     ]
    },
    {
     "name": "stdout",
     "output_type": "stream",
     "text": [
      "\n"
     ]
    },
    {
     "name": "stdout",
     "output_type": "stream",
     "text": [
      "                               1.   directory\n"
     ]
    },
    {
     "name": "stdout",
     "output_type": "stream",
     "text": [
      "                               2.   symbolic link\n"
     ]
    },
    {
     "name": "stdout",
     "output_type": "stream",
     "text": [
      "                               3.   socket\n"
     ]
    },
    {
     "name": "stdout",
     "output_type": "stream",
     "text": [
      "                               4.   pipe\n"
     ]
    },
    {
     "name": "stdout",
     "output_type": "stream",
     "text": [
      "                               5.   executable\n"
     ]
    },
    {
     "name": "stdout",
     "output_type": "stream",
     "text": [
      "                               6.   block special\n"
     ]
    },
    {
     "name": "stdout",
     "output_type": "stream",
     "text": [
      "                               7.   character special\n"
     ]
    },
    {
     "name": "stdout",
     "output_type": "stream",
     "text": [
      "                               8.   executable with setuid bit set\n"
     ]
    },
    {
     "name": "stdout",
     "output_type": "stream",
     "text": [
      "                               9.   executable with setgid bit set\n"
     ]
    },
    {
     "name": "stdout",
     "output_type": "stream",
     "text": [
      "                               10.  directory writable to others, with sticky\n"
     ]
    },
    {
     "name": "stdout",
     "output_type": "stream",
     "text": [
      "                                    bit\n"
     ]
    },
    {
     "name": "stdout",
     "output_type": "stream",
     "text": [
      "                               11.  directory writable to others, without sticky\n"
     ]
    },
    {
     "name": "stdout",
     "output_type": "stream",
     "text": [
      "                                    bit\n"
     ]
    },
    {
     "name": "stdout",
     "output_type": "stream",
     "text": [
      "\n"
     ]
    },
    {
     "name": "stdout",
     "output_type": "stream",
     "text": [
      "                         The default is \"exfxcxdxbxegedabagacad\", i.e., blue\n"
     ]
    },
    {
     "name": "stdout",
     "output_type": "stream",
     "text": [
      "                         foreground and default background for regular\n"
     ]
    },
    {
     "name": "stdout",
     "output_type": "stream",
     "text": [
      "                         directories, black foreground and red background for\n"
     ]
    },
    {
     "name": "stdout",
     "output_type": "stream",
     "text": [
      "                         setuid executables, etc.\n"
     ]
    },
    {
     "name": "stdout",
     "output_type": "stream",
     "text": [
      "\n"
     ]
    },
    {
     "name": "stdout",
     "output_type": "stream",
     "text": [
      "     LS_COLWIDTHS        If this variable is set, it is considered to be a\n"
     ]
    },
    {
     "name": "stdout",
     "output_type": "stream",
     "text": [
      "                         colon-delimited list of minimum column widths.\n"
     ]
    },
    {
     "name": "stdout",
     "output_type": "stream",
     "text": [
      "                         Unreasonable and insufficient widths are ignored (thus\n"
     ]
    },
    {
     "name": "stdout",
     "output_type": "stream",
     "text": [
      "                         zero signifies a dynamically sized column).  Not all\n"
     ]
    },
    {
     "name": "stdout",
     "output_type": "stream",
     "text": [
      "                         columns have changeable widths.  The fields are, in\n"
     ]
    },
    {
     "name": "stdout",
     "output_type": "stream",
     "text": [
      "                         order: inode, block count, number of links, user name,\n"
     ]
    },
    {
     "name": "stdout",
     "output_type": "stream",
     "text": [
      "                         group name, flags, file size, file name.\n"
     ]
    },
    {
     "name": "stdout",
     "output_type": "stream",
     "text": [
      "\n"
     ]
    },
    {
     "name": "stdout",
     "output_type": "stream",
     "text": [
      "     LS_SAMESORT         If this variable is set, the -\b-t\bt option sorts the names\n"
     ]
    },
    {
     "name": "stdout",
     "output_type": "stream",
     "text": [
      "                         of files with the same modification timestamp in the\n"
     ]
    },
    {
     "name": "stdout",
     "output_type": "stream",
     "text": [
      "                         same sense as the time sort.  See the description of\n"
     ]
    },
    {
     "name": "stdout",
     "output_type": "stream",
     "text": [
      "                         the -\b-t\bt option for more details.\n"
     ]
    },
    {
     "name": "stdout",
     "output_type": "stream",
     "text": [
      "\n"
     ]
    },
    {
     "name": "stdout",
     "output_type": "stream",
     "text": [
      "     TERM                The CLICOLOR and COLORTERM functionality depends on a\n"
     ]
    },
    {
     "name": "stdout",
     "output_type": "stream",
     "text": [
      "                         terminal type with color capabilities.\n"
     ]
    },
    {
     "name": "stdout",
     "output_type": "stream",
     "text": [
      "\n"
     ]
    },
    {
     "name": "stdout",
     "output_type": "stream",
     "text": [
      "     TZ                  The timezone to use when displaying dates.  See\n"
     ]
    },
    {
     "name": "stdout",
     "output_type": "stream",
     "text": [
      "                         environ(7) for more information.\n"
     ]
    },
    {
     "name": "stdout",
     "output_type": "stream",
     "text": [
      "\n"
     ]
    },
    {
     "name": "stdout",
     "output_type": "stream",
     "text": [
      "E\bEX\bXI\bIT\bT S\bST\bTA\bAT\bTU\bUS\bS\n"
     ]
    },
    {
     "name": "stdout",
     "output_type": "stream",
     "text": [
      "     The l\bls\bs utility exits 0 on success, and >0 if an error occurs.\n"
     ]
    },
    {
     "name": "stdout",
     "output_type": "stream",
     "text": [
      "\n"
     ]
    },
    {
     "name": "stdout",
     "output_type": "stream",
     "text": [
      "E\bEX\bXA\bAM\bMP\bPL\bLE\bES\bS\n"
     ]
    },
    {
     "name": "stdout",
     "output_type": "stream",
     "text": [
      "     List the contents of the current working directory in long format:\n"
     ]
    },
    {
     "name": "stdout",
     "output_type": "stream",
     "text": [
      "\n"
     ]
    },
    {
     "name": "stdout",
     "output_type": "stream",
     "text": [
      "           $ ls -l\n"
     ]
    },
    {
     "name": "stdout",
     "output_type": "stream",
     "text": [
      "\n"
     ]
    },
    {
     "name": "stdout",
     "output_type": "stream",
     "text": [
      "     In addition to listing the contents of the current working directory in\n"
     ]
    },
    {
     "name": "stdout",
     "output_type": "stream",
     "text": [
      "     long format, show inode numbers, file flags (see chflags(1)), and suffix\n"
     ]
    },
    {
     "name": "stdout",
     "output_type": "stream",
     "text": [
      "     each filename with a symbol representing its file type:\n"
     ]
    },
    {
     "name": "stdout",
     "output_type": "stream",
     "text": [
      "\n"
     ]
    },
    {
     "name": "stdout",
     "output_type": "stream",
     "text": [
      "           $ ls -lioF\n"
     ]
    },
    {
     "name": "stdout",
     "output_type": "stream",
     "text": [
      "\n"
     ]
    },
    {
     "name": "stdout",
     "output_type": "stream",
     "text": [
      "     List the files in _\b/_\bv_\ba_\br_\b/_\bl_\bo_\bg, sorting the output such that the most recently\n"
     ]
    },
    {
     "name": "stdout",
     "output_type": "stream",
     "text": [
      "     modified entries are printed first:\n"
     ]
    },
    {
     "name": "stdout",
     "output_type": "stream",
     "text": [
      "\n"
     ]
    },
    {
     "name": "stdout",
     "output_type": "stream",
     "text": [
      "           $ ls -lt /var/log\n"
     ]
    },
    {
     "name": "stdout",
     "output_type": "stream",
     "text": [
      "\n"
     ]
    },
    {
     "name": "stdout",
     "output_type": "stream",
     "text": [
      "C\bCO\bOM\bMP\bPA\bAT\bTI\bIB\bBI\bIL\bLI\bIT\bTY\bY\n"
     ]
    },
    {
     "name": "stdout",
     "output_type": "stream",
     "text": [
      "     The group field is now automatically included in the long listing for files\n"
     ]
    },
    {
     "name": "stdout",
     "output_type": "stream",
     "text": [
      "     in order to be compatible with the IEEE Std 1003.2 (“POSIX.2”)\n"
     ]
    },
    {
     "name": "stdout",
     "output_type": "stream",
     "text": [
      "     specification.\n"
     ]
    },
    {
     "name": "stdout",
     "output_type": "stream",
     "text": [
      "\n"
     ]
    },
    {
     "name": "stdout",
     "output_type": "stream",
     "text": [
      "L\bLE\bEG\bGA\bAC\bCY\bY D\bDE\bES\bSC\bCR\bRI\bIP\bPT\bTI\bIO\bON\bN\n"
     ]
    },
    {
     "name": "stdout",
     "output_type": "stream",
     "text": [
      "     In legacy mode, the -\b-f\bf option does not turn on the -\b-a\ba option and the -\b-g\bg,\n"
     ]
    },
    {
     "name": "stdout",
     "output_type": "stream",
     "text": [
      "     -\b-n\bn, and -\b-o\bo options do not turn on the -\b-l\bl option.\n"
     ]
    },
    {
     "name": "stdout",
     "output_type": "stream",
     "text": [
      "\n"
     ]
    },
    {
     "name": "stdout",
     "output_type": "stream",
     "text": [
      "     Also, the -\b-o\bo option causes the file flags to be included in a long (-l)\n"
     ]
    },
    {
     "name": "stdout",
     "output_type": "stream",
     "text": [
      "     output; there is no -\b-O\bO option.\n"
     ]
    },
    {
     "name": "stdout",
     "output_type": "stream",
     "text": [
      "\n"
     ]
    },
    {
     "name": "stdout",
     "output_type": "stream",
     "text": [
      "     When -\b-H\bH is specified (and not overridden by -\b-L\bL or -\b-P\bP) and a file argument\n"
     ]
    },
    {
     "name": "stdout",
     "output_type": "stream",
     "text": [
      "     is a symlink that resolves to a non-directory file, the output will reflect\n"
     ]
    },
    {
     "name": "stdout",
     "output_type": "stream",
     "text": [
      "     the nature of the link, rather than that of the file.  In legacy operation,\n"
     ]
    },
    {
     "name": "stdout",
     "output_type": "stream",
     "text": [
      "     the output will describe the file.\n"
     ]
    },
    {
     "name": "stdout",
     "output_type": "stream",
     "text": [
      "\n"
     ]
    },
    {
     "name": "stdout",
     "output_type": "stream",
     "text": [
      "     For more information about legacy mode, see compat(5).\n"
     ]
    },
    {
     "name": "stdout",
     "output_type": "stream",
     "text": [
      "\n"
     ]
    },
    {
     "name": "stdout",
     "output_type": "stream",
     "text": [
      "S\bSE\bEE\bE A\bAL\bLS\bSO\bO\n"
     ]
    },
    {
     "name": "stdout",
     "output_type": "stream",
     "text": [
      "     chflags(1), chmod(1), getfacl(1), sort(1), xterm(1), localeconv(3),\n"
     ]
    },
    {
     "name": "stdout",
     "output_type": "stream",
     "text": [
      "     strftime(3), strmode(3), compat(5), termcap(5), sticky(7), symlink(7)\n"
     ]
    },
    {
     "name": "stdout",
     "output_type": "stream",
     "text": [
      "\n"
     ]
    },
    {
     "name": "stdout",
     "output_type": "stream",
     "text": [
      "S\bST\bTA\bAN\bND\bDA\bAR\bRD\bDS\bS\n"
     ]
    },
    {
     "name": "stdout",
     "output_type": "stream",
     "text": [
      "     With the exception of options -\b-g\bg, -\b-n\bn and -\b-o\bo, the l\bls\bs utility conforms to\n"
     ]
    },
    {
     "name": "stdout",
     "output_type": "stream",
     "text": [
      "     IEEE Std 1003.1-2001 (“POSIX.1”) and IEEE Std 1003.1-2008 (“POSIX.1”).  The\n"
     ]
    },
    {
     "name": "stdout",
     "output_type": "stream",
     "text": [
      "     options -\b-B\bB, -\b-D\bD, -\b-G\bG, -\b-I\bI, -\b-T\bT, -\b-U\bU, -\b-W\bW, -\b-Z\bZ, -\b-b\bb, -\b-h\bh, -\b-w\bw, -\b-y\by and -\b-, are non-\n"
     ]
    },
    {
     "name": "stdout",
     "output_type": "stream",
     "text": [
      "     standard extensions.\n"
     ]
    },
    {
     "name": "stdout",
     "output_type": "stream",
     "text": [
      "\n"
     ]
    },
    {
     "name": "stdout",
     "output_type": "stream",
     "text": [
      "     The ACL support is compatible with IEEE Std 1003.2c (“POSIX.2c”) Draft 17\n"
     ]
    },
    {
     "name": "stdout",
     "output_type": "stream",
     "text": [
      "     (withdrawn).\n"
     ]
    },
    {
     "name": "stdout",
     "output_type": "stream",
     "text": [
      "\n"
     ]
    },
    {
     "name": "stdout",
     "output_type": "stream",
     "text": [
      "H\bHI\bIS\bST\bTO\bOR\bRY\bY\n"
     ]
    },
    {
     "name": "stdout",
     "output_type": "stream",
     "text": [
      "     An l\bls\bs command appeared in Version 1 AT&T UNIX.\n"
     ]
    },
    {
     "name": "stdout",
     "output_type": "stream",
     "text": [
      "\n"
     ]
    },
    {
     "name": "stdout",
     "output_type": "stream",
     "text": [
      "B\bBU\bUG\bGS\bS\n"
     ]
    },
    {
     "name": "stdout",
     "output_type": "stream",
     "text": [
      "     To maintain backward compatibility, the relationships between the many\n"
     ]
    },
    {
     "name": "stdout",
     "output_type": "stream",
     "text": [
      "     options are quite complex.\n"
     ]
    },
    {
     "name": "stdout",
     "output_type": "stream",
     "text": [
      "\n"
     ]
    },
    {
     "name": "stdout",
     "output_type": "stream",
     "text": [
      "     The exception mentioned in the -\b-s\bs option description might be a feature\n"
     ]
    },
    {
     "name": "stdout",
     "output_type": "stream",
     "text": [
      "     that was based on the fact that single-column output usually goes to\n"
     ]
    },
    {
     "name": "stdout",
     "output_type": "stream",
     "text": [
      "     something other than a terminal.  It is debatable whether this is a design\n"
     ]
    },
    {
     "name": "stdout",
     "output_type": "stream",
     "text": [
      "     bug.\n"
     ]
    },
    {
     "name": "stdout",
     "output_type": "stream",
     "text": [
      "\n"
     ]
    },
    {
     "name": "stdout",
     "output_type": "stream",
     "text": [
      "     IEEE Std 1003.2 (“POSIX.2”) mandates opposite sort orders for files with\n"
     ]
    },
    {
     "name": "stdout",
     "output_type": "stream",
     "text": [
      "     the same timestamp when sorting with the -\b-t\bt option.\n"
     ]
    },
    {
     "name": "stdout",
     "output_type": "stream",
     "text": [
      "\n"
     ]
    },
    {
     "name": "stdout",
     "output_type": "stream",
     "text": [
      "macOS 12.3                       August 31, 2020                      macOS 12.3\n"
     ]
    }
   ],
   "source": [
    "man ls "
   ]
  },
  {
   "cell_type": "code",
   "execution_count": null,
   "id": "29bae1f5-1946-4075-ac0f-3379eda6db8c",
   "metadata": {},
   "outputs": [],
   "source": []
  }
 ],
 "metadata": {
  "kernelspec": {
   "display_name": "Bash",
   "language": "bash",
   "name": "bash"
  },
  "language_info": {
   "codemirror_mode": "shell",
   "file_extension": ".sh",
   "mimetype": "text/x-sh",
   "name": "bash"
  }
 },
 "nbformat": 4,
 "nbformat_minor": 5
}