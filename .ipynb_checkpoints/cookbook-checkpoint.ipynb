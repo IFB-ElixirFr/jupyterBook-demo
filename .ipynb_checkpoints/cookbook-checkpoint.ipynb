{
 "cells": [
  {
   "cell_type": "markdown",
   "id": "78efbd13-4eb5-4ce3-a0c9-182f713c193b",
   "metadata": {},
   "source": [
    "# jupyterBook-demo\n",
    "\n",
    "## Objectifs\n",
    "\n",
    "Lister les différentes commandes pour démarer un Jupyter book et comment le partager. \n",
    "\n",
    "**Note 1** \n",
    "\n",
    "Cette intro est réalisée sur le cluster de l'IFB pour vous éviter de devoir faire des instalations particulières. Par contre si vous le souhaitez par la suite, je peux aussi le faire via des dockers.\n",
    "\n",
    "\n",
    "**Note 2** \n",
    "\n",
    "Pour des questions de simplicité, je fais cette démo sur GitHub pour l'héberger sur une GitHub pages. C'est aussi possible sur GitLab (qui viendra après). \n",
    "\n",
    "## Pré-requis\n",
    "\n",
    "Dans cette démo, je ne vous parlerai pas de comment créer des Jupyter notebook. Normelament, si vous souhaitez organiser vos Jupyter notebook en book, c'est que vous savez le faire 😊\n",
    "\n",
    "## Votre premier book \n",
    "\n",
    "### Création d'un répo GitHub\n",
    "\n",
    "Pas d'explication ici. Il faut que votre répo soit public par contre pour pouvoir mettre votre livre en ligne. N'oubliez pas la licence et un read me 😉 \n",
    "\n",
    "### Git clone sur le cluster\n",
    "\n",
    "Pas d'explication ici non plus, normalement vous savez faire sinon (attention moment promotion !) l'IFB propose une formation pour ça `FAIR bioinfo` !  \n",
    "\n",
    "### Création d'un book \n",
    "\n",
    "Pour rappel, nous travaillons sur le cluster de l'IFB, du coup si vous avez besoin d'un outil, on le charge avec `module load`. Si vous voulez en savoir plus (vous me voyez venir? 😉) vous pouvez regarder cette partie de cours : https://ifb-elixirfr.github.io/LinuxEBAII/05_module.html \n",
    "\n",
    "1. Chargement du module"
   ]
  },
  {
   "cell_type": "code",
   "execution_count": 1,
   "id": "d174447b-1db8-4755-90f7-112e8a950409",
   "metadata": {},
   "outputs": [],
   "source": [
    "module load jupyter-book"
   ]
  },
  {
   "cell_type": "markdown",
   "id": "be939bfc-1e14-476e-b8ec-4bd79512c9aa",
   "metadata": {},
   "source": [
    "2. Creer votre book\n",
    "\n",
    "Ici, mon book s'appelle `unBookDeDemo` mais vous lui donnez le nom que vous voulez bien sûr !"
   ]
  },
  {
   "cell_type": "code",
   "execution_count": 2,
   "id": "110f353a-ada3-42a0-92a5-8f58c97fedb0",
   "metadata": {},
   "outputs": [
    {
     "name": "stdout",
     "output_type": "stream",
     "text": [
      "\n",
      "\u001b[92m===============================================================================\u001b[0m\n",
      "\n",
      "Your book template can be found at\n",
      "\n",
      "    unBookDeDemo/\n",
      "\n",
      "\u001b[92m===============================================================================\u001b[0m\n",
      "\n"
     ]
    }
   ],
   "source": [
    "jupyter-book create unBookDeDemo/"
   ]
  },
  {
   "cell_type": "markdown",
   "id": "31fee097-c187-4b00-b774-1a447a2a4dc6",
   "metadata": {},
   "source": [
    "Et si on jettais un coup d'oeil dans le dossier créé ? "
   ]
  },
  {
   "cell_type": "code",
   "execution_count": 4,
   "id": "2448c71d-d6ac-4482-bbd0-cda0f2ea058e",
   "metadata": {},
   "outputs": [
    {
     "name": "stdout",
     "output_type": "stream",
     "text": [
      "total 48\n",
      "-rw-rw-r-- 1 tdenecker tdenecker 1000 Aug 22 04:38 _config.yml\n",
      "-rw-rw-r-- 1 tdenecker tdenecker  431 Aug 22 04:38 intro.md\n",
      "-rw-rw-r-- 1 tdenecker tdenecker 9854 Aug 22 04:38 logo.png\n",
      "-rw-rw-r-- 1 tdenecker tdenecker 1898 Aug 22 04:38 markdown.md\n",
      "-rw-rw-r-- 1 tdenecker tdenecker 1816 Aug 22 04:38 markdown-notebooks.md\n",
      "-rw-rw-r-- 1 tdenecker tdenecker 3378 Aug 22 04:38 notebooks.ipynb\n",
      "-rw-rw-r-- 1 tdenecker tdenecker 5524 Aug 22 04:38 references.bib\n",
      "-rw-rw-r-- 1 tdenecker tdenecker   30 Aug 22 04:38 requirements.txt\n",
      "-rw-rw-r-- 1 tdenecker tdenecker  180 Aug 22 04:38 _toc.yml\n"
     ]
    }
   ],
   "source": [
    "ll unBookDeDemo"
   ]
  },
  {
   "cell_type": "markdown",
   "id": "921d6faa-0911-42bf-8030-13b8604c321d",
   "metadata": {},
   "source": [
    "Dans le fichier `_config.yml`, vous trouvez la configuration de votre livre. "
   ]
  },
  {
   "cell_type": "code",
   "execution_count": 5,
   "id": "ceab078b-bc07-4a7c-9074-f027698a074a",
   "metadata": {},
   "outputs": [
    {
     "name": "stdout",
     "output_type": "stream",
     "text": [
      "# Book settings\n",
      "# Learn more at https://jupyterbook.org/customize/config.html\n",
      "\n",
      "title: My sample book\n",
      "author: The Jupyter Book Community\n",
      "logo: logo.png\n",
      "\n",
      "# Force re-execution of notebooks on each build.\n",
      "# See https://jupyterbook.org/content/execute.html\n",
      "execute:\n",
      "  execute_notebooks: force\n",
      "\n",
      "# Define the name of the latex output file for PDF builds\n",
      "latex:\n",
      "  latex_documents:\n",
      "    targetname: book.tex\n",
      "\n",
      "# Add a bibtex file so that we can create citations\n",
      "bibtex_bibfiles:\n",
      "  - references.bib\n",
      "\n",
      "# Information about where the book exists on the web\n",
      "repository:\n",
      "  url: https://github.com/executablebooks/jupyter-book  # Online location of your book\n",
      "  path_to_book: docs  # Optional path to your book, relative to the repository root\n",
      "  branch: master  # Which branch of the repository should be used when creating links (optional)\n",
      "\n",
      "# Add GitHub buttons to your book\n",
      "# See https://jupyterbook.org/customize/config.html#add-a-link-to-your-repository\n",
      "html:\n",
      "  use_issues_button: true\n",
      "  use_repository_button: true\n"
     ]
    }
   ],
   "source": [
    "cat unBookDeDemo/_config.yml"
   ]
  },
  {
   "cell_type": "markdown",
   "id": "dec73c98-eeb2-4184-81f3-7df16a95b68d",
   "metadata": {},
   "source": [
    "Dans mon dernier livre, j'ai simplement ajouté au bout du fichier ce code \n",
    "\n",
    "```\n",
    "sphinx:\n",
    "  config:\n",
    "    nb_merge_streams: true\n",
    "    html_extra_path: ['assets']\n",
    "```\n",
    "\n",
    "pour :\n",
    "1. Merger les outputs\n",
    "2. Avoir un dossier d'assets pour mes fichiers statics\n",
    "\n",
    "Et bien sûr, un bon titre et des auteurs. On obtient ça à la fin : "
   ]
  },
  {
   "cell_type": "code",
   "execution_count": 6,
   "id": "4cb2be4b-55b4-45f8-9f3b-e69621bd7cf0",
   "metadata": {},
   "outputs": [
    {
     "name": "stdout",
     "output_type": "stream",
     "text": [
      "# Book settings\n",
      "# Learn more at https://jupyterbook.org/customize/config.html\n",
      "\n",
      "title: My sample book\n",
      "author: Thomas Denecker\n",
      "logo: logo.png\n",
      "\n",
      "# Force re-execution of notebooks on each build.\n",
      "# See https://jupyterbook.org/content/execute.html\n",
      "execute:\n",
      "  execute_notebooks: force\n",
      "\n",
      "# Define the name of the latex output file for PDF builds\n",
      "latex:\n",
      "  latex_documents:\n",
      "    targetname: book.tex\n",
      "\n",
      "# Add a bibtex file so that we can create citations\n",
      "bibtex_bibfiles:\n",
      "  - references.bib\n",
      "\n",
      "# Information about where the book exists on the web\n",
      "repository:\n",
      "  url: https://github.com/executablebooks/jupyter-book  # Online location of your book\n",
      "  path_to_book: docs  # Optional path to your book, relative to the repository root\n",
      "  branch: master  # Which branch of the repository should be used when creating links (optional)\n",
      "\n",
      "# Add GitHub buttons to your book\n",
      "# See https://jupyterbook.org/customize/config.html#add-a-link-to-your-repository\n",
      "html:\n",
      "  use_issues_button: true\n",
      "  use_repository_button: true\n",
      "  \n",
      "sphinx:\n",
      "  config:\n",
      "    nb_merge_streams: true\n",
      "    html_extra_path: ['assets']\n"
     ]
    }
   ],
   "source": [
    "cat unBookDeDemo/_config.yml"
   ]
  },
  {
   "cell_type": "markdown",
   "id": "2db1761b-27ef-4d14-926f-7916d25cd24b",
   "metadata": {},
   "source": [
    "Le deuxième fichier important est `_toc.yml`. C'est la table des matières de votre livre. Elle se compose des noms des fichiers à mettre dans le livre (`md` ou `ipynb`) sans l'extention. Ici, par defaut, il y a 3 chapitres correspondant à 3 fichiers"
   ]
  },
  {
   "cell_type": "code",
   "execution_count": 7,
   "id": "0ef60239-31bd-419c-833f-588066a7527c",
   "metadata": {},
   "outputs": [
    {
     "name": "stdout",
     "output_type": "stream",
     "text": [
      "# Table of contents\n",
      "# Learn more at https://jupyterbook.org/customize/toc.html\n",
      "\n",
      "format: jb-book\n",
      "root: intro\n",
      "chapters:\n",
      "- file: markdown\n",
      "- file: notebooks\n",
      "- file: markdown-notebooks\n"
     ]
    }
   ],
   "source": [
    "cat unBookDeDemo/_toc.yml"
   ]
  },
  {
   "cell_type": "markdown",
   "id": "1a339951-eb32-4825-b34c-0d2495b89f9a",
   "metadata": {},
   "source": [
    "Un truc génial, vous pouvez créer des sections et bien sur des nouveaux fichiers. Par exemple, je vais créer un section Markdown, Bash et Python (et des notebooks pour chaque). On obtient comme fichier `_toc.yml`"
   ]
  },
  {
   "cell_type": "code",
   "execution_count": 12,
   "id": "1b751dc1-5125-4b3c-a048-af601b77e78e",
   "metadata": {},
   "outputs": [
    {
     "name": "stdout",
     "output_type": "stream",
     "text": [
      "# Table of contents\n",
      "# Learn more at https://jupyterbook.org/customize/toc.html\n",
      "\n",
      "format: jb-book\n",
      "root: intro\n",
      "parts:\n",
      "  - caption: markdown\n",
      "    chapters:\n",
      "        - file: markdown\n",
      "        - file: markdown-notebooks\n",
      "  - caption: Python\n",
      "    chapters:\n",
      "        - file: notebooks\n",
      "  - caption: Bash\n",
      "    chapters:\n",
      "        - file: notebook_bash"
     ]
    }
   ],
   "source": [
    "cat unBookDeDemo/_toc.yml"
   ]
  },
  {
   "cell_type": "markdown",
   "id": "d8bd09b9-f2bd-4efd-a66c-e074a83dd674",
   "metadata": {},
   "source": [
    "**Attention** Un conseil, lors de la compilation de votre livre, les fichiers seront gérés par ordre alphabétique. Je vous conseille donc pour éviter les surprises de nommer vos fichier `01_....`, `02_....` etc. Vous le forcerez à suivre un ordre donné pour la compilation. \n",
    "\n",
    "Les autres fichiers dans le dossier sont:  \n",
    "- vos fichiers (md et ipynb)\n",
    "- `requirements.txt` (perso j'ai ajouté `jupyterquiz` (demo [ici](https://ifb-elixirfr.github.io/LinuxEBAII/quizz_01.html)) et jupytercards (démo [ici](https://ifb-elixirfr.github.io/LinuxEBAII/cards_01.html)) \n",
    "- `reference.bib` pout vos références\n",
    "\n",
    "Maintenant qu'on a fait le tour, on peut compiler notre livre. "
   ]
  },
  {
   "cell_type": "code",
   "execution_count": 14,
   "id": "ec44f337-03b0-4580-a04e-9d28df8a3b56",
   "metadata": {},
   "outputs": [
    {
     "name": "stdout",
     "output_type": "stream",
     "text": [
      "\u001b[32m\u001b[1mRunning Jupyter-Book v0.13.1\u001b[0m\n",
      "\u001b[34m\u001b[1mSource Folder: \u001b[0m/shared/ifbstor1/home/tdenecker/jupyterBook-demo/unBookDeDemo\n",
      "\u001b[34m\u001b[1mConfig Path: \u001b[0m/shared/ifbstor1/home/tdenecker/jupyterBook-demo/unBookDeDemo/_config.yml\n",
      "\u001b[34m\u001b[1mOutput Path: \u001b[0m/shared/ifbstor1/home/tdenecker/jupyterBook-demo/unBookDeDemo/_build/html\n",
      "\u001b[01mRunning Sphinx v4.5.0\u001b[39;49;00m\n",
      "\u001b[91mWARNING: html_extra_path entry 'assets' does not exist\u001b[39;49;00m\n",
      "[etoc] Changing master_doc to 'intro'\n",
      "checking bibtex cache... out of date\n",
      "parsing bibtex file /shared/ifbstor1/home/tdenecker/jupyterBook-demo/unBookDeDemo/references.bib... parsed 5 entries\n",
      "\u001b[01mmyst v0.15.2:\u001b[39;49;00m MdParserConfig(renderer='sphinx', commonmark_only=False, enable_extensions=['colon_fence', 'dollarmath', 'linkify', 'substitution', 'tasklist'], dmath_allow_labels=True, dmath_allow_space=True, dmath_allow_digits=True, dmath_double_inline=False, update_mathjax=True, mathjax_classes='tex2jax_process|mathjax_process|math|output_area', disable_syntax=[], url_schemes=['mailto', 'http', 'https'], heading_anchors=None, heading_slug_func=None, html_meta=[], footnote_transition=True, substitutions=[], sub_delimiters=['{', '}'], words_per_minute=200)\n",
      "\u001b[01mbuilding [mo]: \u001b[39;49;00mtargets for 0 po files that are out of date\n",
      "\u001b[01mbuilding [html]: \u001b[39;49;00mtargets for 5 source files that are out of date\n",
      "\u001b[01mupdating environment: \u001b[39;49;00m[new config] 5 added, 0 changed, 0 removed\n",
      "Executing: markdown-notebooks in: /shared/ifbstor1/home/tdenecker/jupyterBook-demo/unBookDeDemo                 \n",
      "Executing: notebook_bash in: /shared/ifbstor1/home/tdenecker/jupyterBook-demo/unBookDeDemo                      \n",
      "Executing: notebooks in: /shared/ifbstor1/home/tdenecker/jupyterBook-demo/unBookDeDemo                          \n",
      "\n",
      "\u001b[31mERROR: Execution Failed with traceback saved in /shared/ifbstor1/home/tdenecker/jupyterBook-demo/unBookDeDemo/_build/html/reports/notebooks.log\u001b[39;49;00m\n",
      "\u001b[01mlooking for now-outdated files... \u001b[39;49;00mnone found\n",
      "\u001b[01mpickling environment... \u001b[39;49;00mdone\n",
      "\u001b[01mchecking consistency... \u001b[39;49;00mdone\n",
      "\u001b[01mpreparing documents... \u001b[39;49;00mdone\n",
      "\u001b[01mwriting output... \u001b[39;49;00m[100%] \u001b[32mnotebooks\u001b[39;49;00m                                              \n",
      "\u001b[01mgenerating indices... \u001b[39;49;00mgenindex done\n",
      "\u001b[01mwriting additional pages... \u001b[39;49;00msearch done\n",
      "\u001b[01mcopying static files... \u001b[39;49;00mdone\n",
      "\u001b[01mcopying extra files... \u001b[39;49;00mdone\n",
      "\u001b[01mdumping search index in English (code: en)... \u001b[39;49;00mdone\n",
      "\u001b[01mdumping object inventory... \u001b[39;49;00mdone\n",
      "\u001b[01mbuild succeeded, 2 warnings.\u001b[39;49;00m\n",
      "\n",
      "The HTML pages are in unBookDeDemo/_build/html.\n",
      "[etoc] missing index.html written as redirect to 'intro.html'\n",
      "\n",
      "\u001b[92m===============================================================================\u001b[0m\n",
      "\n",
      "Finished generating HTML for book.\n",
      "Your book's HTML pages are here:\n",
      "    unBookDeDemo/_build/html/\n",
      "You can look at your book by opening this file in a browser:\n",
      "    unBookDeDemo/_build/html/index.html\n",
      "Or paste this line directly into your browser bar:\n",
      "    file:///shared/ifbstor1/home/tdenecker/jupyterBook-demo/unBookDeDemo/_build/html/index.html            \n",
      "\n",
      "\u001b[92m===============================================================================\u001b[0m\n",
      "\n"
     ]
    }
   ],
   "source": [
    "module load jupyter-book\n",
    "jupyter-book build unBookDeDemo/"
   ]
  },
  {
   "cell_type": "markdown",
   "id": "06b182e4-87f2-48e1-b253-0ba400c8d528",
   "metadata": {},
   "source": [
    "et voilà ! Un nouveau dossier `_build` a été créé avec votre book."
   ]
  },
  {
   "cell_type": "code",
   "execution_count": 16,
   "id": "909df4f8-947c-41d5-9d26-4bbb7ac2a129",
   "metadata": {},
   "outputs": [
    {
     "name": "stdout",
     "output_type": "stream",
     "text": [
      "unBookDeDemo\n",
      "├── _build\n",
      "│   ├── html\n",
      "│   │   ├── genindex.html\n",
      "│   │   ├── index.html\n",
      "│   │   ├── intro.html\n",
      "│   │   ├── markdown.html\n",
      "│   │   ├── markdown-notebooks.html\n",
      "│   │   ├── notebook_bash.html\n",
      "│   │   ├── notebooks.html\n",
      "│   │   ├── objects.inv\n",
      "│   │   ├── reports\n",
      "│   │   ├── search.html\n",
      "│   │   ├── searchindex.js\n",
      "│   │   ├── _sources\n",
      "│   │   ├── _sphinx_design_static\n",
      "│   │   └── _static\n",
      "│   └── jupyter_execute\n",
      "│       ├── markdown-notebooks.ipynb\n",
      "│       ├── markdown-notebooks.py\n",
      "│       ├── notebook_bash.ipynb\n",
      "│       ├── notebook_bash.sh\n",
      "│       ├── notebooks.ipynb\n",
      "│       └── notebooks.py\n",
      "├── _config.yml\n",
      "├── intro.md\n",
      "├── logo.png\n",
      "├── markdown.md\n",
      "├── markdown-notebooks.md\n",
      "├── notebook_bash.ipynb\n",
      "├── notebooks.ipynb\n",
      "├── references.bib\n",
      "├── requirements.txt\n",
      "└── _toc.yml\n",
      "\n",
      "7 directories, 26 files\n"
     ]
    }
   ],
   "source": [
    "tree unBookDeDemo -L 3"
   ]
  },
  {
   "cell_type": "markdown",
   "id": "35d0a7c3-c183-4f9f-95a6-974c21a58bbb",
   "metadata": {},
   "source": [
    "Un truc génial avec les books, c'est qu'on peut faire du markdown enrichi. Ici des tonnes d'exemple : https://jupyterbook.org/en/stable/content/myst.html \n",
    "\n",
    "On le met en ligne ? \n",
    "\n",
    "### Mise en ligne du book \n",
    "\n",
    "1. On ajoute dans un fichier `.nojekyll`dans le dossier principal. c'est un fichier vide qui va empécher la compilation par Jekyll dans les github actions. \n",
    "2. On envoie sur GitHub nos modifications \n",
    "3. On active le GitHub Pages "
   ]
  }
 ],
 "metadata": {
  "kernelspec": {
   "display_name": "Bash",
   "language": "bash",
   "name": "bash"
  },
  "language_info": {
   "codemirror_mode": "shell",
   "file_extension": ".sh",
   "mimetype": "text/x-sh",
   "name": "bash"
  }
 },
 "nbformat": 4,
 "nbformat_minor": 5
}
